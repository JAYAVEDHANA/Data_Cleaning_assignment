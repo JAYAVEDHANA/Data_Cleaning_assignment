{
 "cells": [
  {
   "cell_type": "code",
   "execution_count": 1,
   "id": "0f1fc0c8-7c9f-4f7e-bd8f-f55f11ce5abf",
   "metadata": {},
   "outputs": [
    {
     "name": "stdout",
     "output_type": "stream",
     "text": [
      "Defaulting to user installation because normal site-packages is not writeable\n",
      "Requirement already satisfied: pandas in c:\\programdata\\anaconda3\\lib\\site-packages (2.1.4)\n",
      "Requirement already satisfied: numpy<2,>=1.23.2 in c:\\programdata\\anaconda3\\lib\\site-packages (from pandas) (1.26.4)\n",
      "Requirement already satisfied: python-dateutil>=2.8.2 in c:\\programdata\\anaconda3\\lib\\site-packages (from pandas) (2.8.2)\n",
      "Requirement already satisfied: pytz>=2020.1 in c:\\programdata\\anaconda3\\lib\\site-packages (from pandas) (2023.3.post1)\n",
      "Requirement already satisfied: tzdata>=2022.1 in c:\\programdata\\anaconda3\\lib\\site-packages (from pandas) (2023.3)\n",
      "Requirement already satisfied: six>=1.5 in c:\\programdata\\anaconda3\\lib\\site-packages (from python-dateutil>=2.8.2->pandas) (1.16.0)\n",
      "Defaulting to user installation because normal site-packages is not writeable\n",
      "Requirement already satisfied: numpy in c:\\programdata\\anaconda3\\lib\\site-packages (1.26.4)\n",
      "Defaulting to user installation because normal site-packages is not writeable\n",
      "Requirement already satisfied: pathlib in c:\\programdata\\anaconda3\\lib\\site-packages (1.0.1)\n",
      "Defaulting to user installation because normal site-packages is not writeable\n",
      "Requirement already satisfied: openpyxl in c:\\programdata\\anaconda3\\lib\\site-packages (3.0.10)\n",
      "Requirement already satisfied: et_xmlfile in c:\\programdata\\anaconda3\\lib\\site-packages (from openpyxl) (1.1.0)\n"
     ]
    }
   ],
   "source": [
    "!pip install pandas\n",
    "!pip install numpy\n",
    "!pip install pathlib\n",
    "!pip install openpyxl\n",
    "\n",
    "import pandas as pd\n",
    "import numpy as np\n",
    "from pathlib import Path"
   ]
  },
  {
   "cell_type": "code",
   "execution_count": 2,
   "id": "ffa6048b-e556-4239-89c8-fea1c0fef7c3",
   "metadata": {},
   "outputs": [],
   "source": [
    "def summary_cleaning(summary_df, file_name):\n",
    "    selected_columns1 = pd.DataFrame()\n",
    "    values = summary_df[\"Unnamed: 1\"].loc[3:5].values \n",
    "    selected_columns1 = pd.DataFrame([values], columns=[\"Brand\",\"Locations\", \"City\"])\n",
    "\n",
    "    if summary_df[\"Unnamed: 1\"].loc[6].startswith(\"Rest. ID - \"):\n",
    "       selected_columns1[\"Res-Id\"] = int(summary_df[\"Unnamed: 1\"].loc[6].split('-')[1])\n",
    "\n",
    "    \n",
    "    selected_columns2 = summary_df[[\"Unnamed: 1\",\"Unnamed: 2\"]].fillna('').loc[10:14].T.reset_index(drop = True) #loc index label name\n",
    "    selected_columns2.columns = selected_columns2.iloc[0] #iloc postion of the row\n",
    "    selected_columns2 = selected_columns2.drop(index=0).reset_index(drop = True)\n",
    "    selected_columns2[\"Total Orders (Delivered + Cancelled)\"] = selected_columns2[\"Total Orders (Delivered + Cancelled)\"].astype(int)\n",
    "    selected_columns2[\"Total Payout\"] = selected_columns2[\"Total Payout\"].str[1:].astype(float)\n",
    "    selected_columns2[\"File Name\"]= file_name\n",
    "\n",
    "    return pd.concat([selected_columns1, selected_columns2] ,axis=1)"
   ]
  },
  {
   "cell_type": "code",
   "execution_count": 8,
   "id": "da168d3c-ea07-4186-8bfa-61f2b22799df",
   "metadata": {},
   "outputs": [],
   "source": [
    "def payout_breakout_cleaning(payout_breakup_df, file_name, sr_no):\n",
    "    payout_breakup_df.columns = payout_breakup_df.iloc[0].reset_index(drop=True)\n",
    "    payout_breakup_df =  payout_breakup_df.drop(index=0).reset_index(drop = True)\n",
    "    payout_breakup_df = payout_breakup_df.dropna(axis=1, how=\"all\")\n",
    "    payout_breakup_df.columns = payout_breakup_df.columns.where(~payout_breakup_df.columns.isna(), \"SR.No\")\n",
    "    payout_breakup_df = payout_breakup_df.fillna('')\n",
    "    payout_breakup_df[\"SR.No\"] = sr_no + 1\n",
    "    payout_breakup_df[\"File Name\"] = file_name\n",
    "    \n",
    "    return payout_breakup_df\n",
    "\n"
   ]
  },
  {
   "cell_type": "code",
   "execution_count": 9,
   "id": "47a93619-5364-4c68-9b6a-043f67507d54",
   "metadata": {},
   "outputs": [],
   "source": [
    "def order_level_cleaning(order_level_raw_df, file_name):\n",
    "    order_df = order_level_raw_df.fillna('')\n",
    "    order_df[\"File Name\"] = file_name\n",
    "\n",
    "    return order_df\n",
    "    "
   ]
  },
  {
   "cell_type": "code",
   "execution_count": 11,
   "id": "a2859eb8-78ad-438b-b6a0-c6152002904a",
   "metadata": {
    "scrolled": true
   },
   "outputs": [],
   "source": [
    "folder = Path(r\"C:\\Users\\jaian\\Cleaning data & merging\\Assignment files\")\n",
    "\n",
    "summary_rows = []                     \n",
    "payout_breakout_rows = []\n",
    "order_level_rows = []\n",
    "\n",
    "for i, file in enumerate(folder.glob(\"*.xlsx\")):\n",
    "    \n",
    "    summary_raw_df = pd.read_excel(file, sheet_name=\"Summary\")\n",
    "    summary = summary_cleaning(summary_raw_df, file.name) \n",
    "    \n",
    "    payout_breakup_raw_df = pd.read_excel(file, sheet_name=\"Payout Breakup\", skiprows = 1)\n",
    "    payout_breakup = payout_breakout_cleaning(payout_breakup_raw_df, file.name, i)\n",
    "\n",
    "    order_level_raw_df = pd.read_excel(file, sheet_name=\"Order Level\", skiprows = 2)\n",
    "    order_level = order_level_cleaning(order_level_raw_df, file.name)\n",
    "\n",
    "    summary_rows.append(summary)    \n",
    "    payout_breakout_rows.append(payout_breakup)\n",
    "    order_level_rows.append(order_level)\n",
    "\n",
    "\n",
    "summary_df = pd.concat(summary_rows, ignore_index=True)\n",
    "payout_breakup_cleaned_df = pd.concat(payout_breakout_rows, ignore_index=True)\n",
    "order_level_cleaned_df = pd.concat(order_level_rows, ignore_index=True)\n",
    "\n",
    "\n",
    "payout_breakup_df = payout_breakup_cleaned_df.merge(summary_df[[\"Brand\", \"Res-Id\", \"Payout Period\", \"File Name\"]], on=\"File Name\")\n",
    "cols = [col for col in payout_breakup_df.columns if col != \"File Name\"] + [\"File Name\"]\n",
    "payout_breakup_df = payout_breakup_df[cols]\n",
    "\n",
    "\n",
    "order_level_cleaned_df = summary_df[[\"Brand\", \"Res-Id\", \"Payout Period\", \"File Name\"]].merge(order_level_cleaned_df, on=\"File Name\")\n",
    "\n",
    "commission_invoice_df = pd.read_excel(r\"C:\\Users\\jaian\\Cleaning data & merging\\Swiggy_Tax_Sample_file.xlsx\", sheet_name = \"Swiggy.Tax\")\n",
    "commission_invoice_df = commission_invoice_df.iloc[:, 1:]\n",
    "commission_invoice_cols = [commission_invoice_col for commission_invoice_col in commission_invoice_df.columns if commission_invoice_col != \"id\" and commission_invoice_col != \"original_invoice_date\"]\n",
    "commission_invoice_df = commission_invoice_df[commission_invoice_cols]\n",
    "\n",
    "\n",
    "\n"
   ]
  },
  {
   "cell_type": "code",
   "execution_count": 13,
   "id": "67e34184-e35b-431f-beb9-0c524d4b462a",
   "metadata": {},
   "outputs": [],
   "source": [
    "with pd.ExcelWriter(r\"C:\\Users\\jaian\\Cleaning data & merging\\Data Analyst Quick Assignment.xlsx\",mode=\"a\",engine=\"openpyxl\",if_sheet_exists=\"overlay\") as writer:\n",
    "    summary_df[[\"Brand\", \"Locations\", \"City\", \"Res-Id\", \"Payout Period\", \"Payout Settlement Date\", \"Total Payout\", \"Total Orders (Delivered + Cancelled)\", \"Bank UTR\"]].to_excel(writer, sheet_name = \"Summary\", index = False, startrow=1, header=False)\n"
   ]
  },
  {
   "cell_type": "code",
   "execution_count": 14,
   "id": "e2416da1-14bd-4333-a491-e4a808bfb784",
   "metadata": {},
   "outputs": [],
   "source": [
    "with pd.ExcelWriter(r\"C:\\Users\\jaian\\Cleaning data & merging\\Data Analyst Quick Assignment.xlsx\",mode=\"a\",engine=\"openpyxl\", if_sheet_exists=\"overlay\") as writer:\n",
    "    payout_breakup_df.to_excel(writer, sheet_name=\"Payout Breakup Tab\", index=False, startrow=1, header=False)\n"
   ]
  },
  {
   "cell_type": "code",
   "execution_count": 15,
   "id": "5f3e7ac8-3b34-41f6-b998-a7792ccfb349",
   "metadata": {},
   "outputs": [],
   "source": [
    "with pd.ExcelWriter(r\"C:\\Users\\jaian\\Cleaning data & merging\\Data Analyst Quick Assignment.xlsx\",mode=\"a\",engine=\"openpyxl\", if_sheet_exists=\"overlay\") as writer:\n",
    "    order_level_cleaned_df.to_excel(writer, sheet_name=\"Order Level\", index=False , startrow=1, header=False)"
   ]
  },
  {
   "cell_type": "code",
   "execution_count": 16,
   "id": "70eab010-9864-4f47-adaa-f36512712645",
   "metadata": {},
   "outputs": [],
   "source": [
    "with pd.ExcelWriter(r\"C:\\Users\\jaian\\Cleaning data & merging\\Data Analyst Quick Assignment.xlsx\",mode=\"a\",engine=\"openpyxl\", if_sheet_exists=\"overlay\") as writer:\n",
    "    commission_invoice_df.to_excel(writer, sheet_name=\"Commission Invoice\", index=False, startrow=1, header=False)"
   ]
  },
  {
   "cell_type": "code",
   "execution_count": 17,
   "id": "43765ecb-09b4-4812-8fa1-0bd04931e920",
   "metadata": {},
   "outputs": [],
   "source": [
    "assi_df = pd.read_excel(r\"C:\\Users\\jaian\\Cleaning data & merging\\Data Analyst Quick Assignment.xlsx\", sheet_name=\"Summary\")"
   ]
  },
  {
   "cell_type": "code",
   "execution_count": null,
   "id": "0dcc4997-b28f-4221-bbbb-8d2065cdf70c",
   "metadata": {},
   "outputs": [],
   "source": []
  }
 ],
 "metadata": {
  "kernelspec": {
   "display_name": "Python 3 (ipykernel)",
   "language": "python",
   "name": "python3"
  },
  "language_info": {
   "codemirror_mode": {
    "name": "ipython",
    "version": 3
   },
   "file_extension": ".py",
   "mimetype": "text/x-python",
   "name": "python",
   "nbconvert_exporter": "python",
   "pygments_lexer": "ipython3",
   "version": "3.11.7"
  }
 },
 "nbformat": 4,
 "nbformat_minor": 5
}
